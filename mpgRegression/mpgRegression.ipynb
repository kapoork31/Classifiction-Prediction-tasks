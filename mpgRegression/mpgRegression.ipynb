{
 "cells": [
  {
   "cell_type": "code",
   "execution_count": 229,
   "metadata": {
    "collapsed": false
   },
   "outputs": [],
   "source": [
    "# python 2\n",
    "\n",
    "import sklearn as sklearn\n",
    "import pandas as pd\n",
    "import numpy as np\n",
    "from sklearn.model_selection import train_test_split\n",
    "from sklearn import metrics,linear_model\n",
    "from  matplotlib import pyplot as plt\n",
    "from knnimpute import knn_impute_few_observed\n",
    "\n"
   ]
  },
  {
   "cell_type": "code",
   "execution_count": 230,
   "metadata": {
    "collapsed": false
   },
   "outputs": [
    {
     "name": "stderr",
     "output_type": "stream",
     "text": [
      "C:\\ProgramData\\Continuum\\Anaconda\\lib\\site-packages\\ipykernel\\__main__.py:2: SettingWithCopyWarning: \n",
      "A value is trying to be set on a copy of a slice from a DataFrame\n",
      "\n",
      "See the caveats in the documentation: http://pandas.pydata.org/pandas-docs/stable/indexing.html#indexing-view-versus-copy\n",
      "  from ipykernel import kernelapp as app\n",
      "C:\\ProgramData\\Continuum\\Anaconda\\lib\\site-packages\\ipykernel\\__main__.py:4: FutureWarning: convert_objects is deprecated.  Use the data-type specific converters pd.to_datetime, pd.to_timedelta and pd.to_numeric.\n"
     ]
    }
   ],
   "source": [
    "data = pd.read_csv('autoclean.txt' ,sep = ',') # read in file\n",
    "data.horsepower[data.horsepower =='?'] = np.NaN  # convert '?' to Na values\n",
    "dataN = data[['model year','horsepower','origin']] # for knnimputation,decided to use year of make and origin as two variables which can effect horsepower\n",
    "dataN = dataN.convert_objects(convert_numeric=True)# convert the pandas df into type float 64\n",
    "dataN = dataN.as_matrix() # convert df into numpy array"
   ]
  },
  {
   "cell_type": "code",
   "execution_count": 232,
   "metadata": {
    "collapsed": false
   },
   "outputs": [],
   "source": [
    "X_imputed = knn_impute_few_observed(dataN, np.isnan(dataN), k= 6) # Knn imputation using knnimpute\n",
    "X_imputed = np.asarray(X_imputed, dtype=int) \n",
    "data['horsepower'] = X_imputed[:,1]"
   ]
  },
  {
   "cell_type": "code",
   "execution_count": 233,
   "metadata": {
    "collapsed": true
   },
   "outputs": [],
   "source": [
    "predictors = data[['weight', 'model year','origin','displacement','horsepower']]# usnig these 5 as [predictor variables]\n",
    "target = data['mpg'] # defnie target data\n",
    "\n",
    "X_train, X_test, y_train, y_test = train_test_split(predictors, target, test_size=0.3, random_state=42) # test, train split\n"
   ]
  },
  {
   "cell_type": "code",
   "execution_count": 234,
   "metadata": {
    "collapsed": false
   },
   "outputs": [
    {
     "data": {
      "text/plain": [
       "0.83919553158126226"
      ]
     },
     "execution_count": 234,
     "metadata": {},
     "output_type": "execute_result"
    }
   ],
   "source": [
    "clf = linear_model.LinearRegression() # sklearn linear regression.\n",
    "clf.fit(X_train,y_train) # fit model on training data.\n",
    "clf.predict(X_test) # use model to predict mpg of test data.\n",
    "clf.score(X_test,y_test) # output the r-squared score of the model."
   ]
  },
  {
   "cell_type": "code",
   "execution_count": 235,
   "metadata": {
    "collapsed": false
   },
   "outputs": [
    {
     "data": {
      "text/plain": [
       "array([-0.00604858,  0.77818887,  1.51207465,  0.00684185, -0.01854838])"
      ]
     },
     "execution_count": 235,
     "metadata": {},
     "output_type": "execute_result"
    }
   ],
   "source": [
    "clf.coef_ # coeeficients opf the linar regression. Displays the change in mpg on average based on an increase of 1 unit in the respective predictive variable. "
   ]
  }
 ],
 "metadata": {
  "kernelspec": {
   "display_name": "Python 2",
   "language": "python",
   "name": "python2"
  },
  "language_info": {
   "codemirror_mode": {
    "name": "ipython",
    "version": 2
   },
   "file_extension": ".py",
   "mimetype": "text/x-python",
   "name": "python",
   "nbconvert_exporter": "python",
   "pygments_lexer": "ipython2",
   "version": "2.7.13"
  }
 },
 "nbformat": 4,
 "nbformat_minor": 2
}
