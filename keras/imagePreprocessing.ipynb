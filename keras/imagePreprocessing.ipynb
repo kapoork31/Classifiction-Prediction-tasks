{
 "cells": [
  {
   "cell_type": "code",
   "execution_count": 292,
   "metadata": {},
   "outputs": [],
   "source": [
    "import os\n",
    "import numpy as np\n",
    "import cv2 as cv2"
   ]
  },
  {
   "cell_type": "code",
   "execution_count": 293,
   "metadata": {},
   "outputs": [],
   "source": [
    "def createVec(labelsPre,docs):\n",
    "    data = [] # hold vector data per image\n",
    "    labels = [] # label for each image\n",
    "    for i,doc in enumerate(docs):\n",
    "        label = labelsPre[i]\n",
    "        for filename in os.listdir(doc):\n",
    "            f = doc + '\\\\' + filename\n",
    "            img = cv2.imread(f,0)\n",
    "            resized_image = cv2.resize(img, (28, 28)) # reshape images to uniform size\n",
    "            normalize = resized_image/255 # get pixel intensity values/greyscale values\n",
    "            #flattened = normalize.flatten() # flatten vecotr to be a a vector with 28 * 28 elements\n",
    "            data.append(normalize) \n",
    "            labels.append(label)\n",
    "    return(data,labels)"
   ]
  },
  {
   "cell_type": "code",
   "execution_count": 294,
   "metadata": {},
   "outputs": [],
   "source": [
    "def createData():\n",
    "    docs = ['images/acapella','images/aerobika']\n",
    "    labelsPre = [0,1]\n",
    "    dataAll = createVec(labelsPre,docs)\n",
    "    data = np.array(dataAll[0]) # convert to numpy array\n",
    "    labels = np.array(dataAll[1]) # convert to numpy array\n",
    "    return(data,labels)\n",
    "    #pk.dump( allData, open( \"images\\\\allData.p\", \"wb\" ) ) # save as pickle file"
   ]
  }
 ],
 "metadata": {
  "kernelspec": {
   "display_name": "Python 3",
   "language": "python",
   "name": "python3"
  },
  "language_info": {
   "codemirror_mode": {
    "name": "ipython",
    "version": 3
   },
   "file_extension": ".py",
   "mimetype": "text/x-python",
   "name": "python",
   "nbconvert_exporter": "python",
   "pygments_lexer": "ipython3",
   "version": "3.6.5"
  }
 },
 "nbformat": 4,
 "nbformat_minor": 2
}
