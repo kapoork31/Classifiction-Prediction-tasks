{
 "cells": [
  {
   "cell_type": "code",
   "execution_count": 1,
   "metadata": {},
   "outputs": [
    {
     "name": "stderr",
     "output_type": "stream",
     "text": [
      "C:\\Program Files\\Anaconda3\\lib\\site-packages\\h5py\\__init__.py:36: FutureWarning: Conversion of the second argument of issubdtype from `float` to `np.floating` is deprecated. In future, it will be treated as `np.float64 == np.dtype(float).type`.\n",
      "  from ._conv import register_converters as _register_converters\n",
      "Using TensorFlow backend.\n"
     ]
    }
   ],
   "source": [
    "import keras as k\n",
    "from os import listdir\n",
    "import cv2 as cv2\n",
    "import numpy as np\n",
    "import scipy as scipy\n",
    "import pickle as pk\n",
    "from sklearn.model_selection import train_test_split"
   ]
  },
  {
   "cell_type": "code",
   "execution_count": 2,
   "metadata": {},
   "outputs": [
    {
     "name": "stdout",
     "output_type": "stream",
     "text": [
      "importing Jupyter notebook from imagePreprocessing.ipynb\n"
     ]
    }
   ],
   "source": [
    "import import_ipynb\n",
    "import imagePreprocessing"
   ]
  },
  {
   "cell_type": "code",
   "execution_count": 3,
   "metadata": {},
   "outputs": [],
   "source": [
    "dataAll = imagePreprocessing.createData()\n",
    "data = dataAll[0]\n",
    "labels = dataAll[1]"
   ]
  },
  {
   "cell_type": "code",
   "execution_count": 4,
   "metadata": {},
   "outputs": [],
   "source": [
    "data = data.reshape(len(data),28,28,1)\n",
    "labels = k.utils.to_categorical(labels)\n"
   ]
  },
  {
   "cell_type": "code",
   "execution_count": 5,
   "metadata": {},
   "outputs": [],
   "source": [
    "x_train, x_test, y_train, y_test = train_test_split(data, labels, test_size=0.33)"
   ]
  },
  {
   "cell_type": "code",
   "execution_count": 6,
   "metadata": {},
   "outputs": [
    {
     "data": {
      "text/plain": [
       "(28, 28, 1)"
      ]
     },
     "execution_count": 6,
     "metadata": {},
     "output_type": "execute_result"
    }
   ],
   "source": [
    "x_train[1].shape"
   ]
  },
  {
   "cell_type": "code",
   "execution_count": 14,
   "metadata": {},
   "outputs": [],
   "source": [
    "from keras.models import Sequential\n",
    "from keras.layers import Dense, Conv2D, Flatten, Conv1D,MaxPooling2D,Dropout\n",
    "#create model\n",
    "model = Sequential()\n",
    "#add model layers\n",
    "model.add(Conv2D(32, kernel_size=(3,3), activation='relu', input_shape=(28,28,1)))\n",
    "model.add(MaxPooling2D(pool_size=(2, 2)))\n",
    "model.add(Dropout(0.25))\n",
    "model.add(Conv2D(64, kernel_size=(3,3), activation='relu'))\n",
    "model.add(MaxPooling2D(pool_size=(2, 2)))\n",
    "model.add(Dropout(0.25))\n",
    "model.add(Flatten())\n",
    "model.add(Dense(2, activation='softmax')) # set to 2 cause 2 outputs via softmax. \n",
    "# softmax pushes values between 0 and 1. and all probs add up to 1. "
   ]
  },
  {
   "cell_type": "code",
   "execution_count": 15,
   "metadata": {},
   "outputs": [],
   "source": [
    "#compile model using accuracy to measure model performance\n",
    "model.compile(optimizer='adam', loss='categorical_crossentropy', metrics=['accuracy'])"
   ]
  },
  {
   "cell_type": "code",
   "execution_count": 16,
   "metadata": {},
   "outputs": [
    {
     "name": "stdout",
     "output_type": "stream",
     "text": [
      "Train on 92 samples, validate on 46 samples\n",
      "Epoch 1/15\n",
      "92/92 [==============================] - 2s 24ms/step - loss: 0.7489 - acc: 0.4130 - val_loss: 0.7002 - val_acc: 0.4348\n",
      "Epoch 2/15\n",
      "92/92 [==============================] - 2s 19ms/step - loss: 0.7081 - acc: 0.5326 - val_loss: 0.7047 - val_acc: 0.4348\n",
      "Epoch 3/15\n",
      "92/92 [==============================] - 2s 19ms/step - loss: 0.7078 - acc: 0.4674 - val_loss: 0.6885 - val_acc: 0.8913\n",
      "Epoch 4/15\n",
      "92/92 [==============================] - 2s 17ms/step - loss: 0.6906 - acc: 0.5761 - val_loss: 0.6912 - val_acc: 0.4348\n",
      "Epoch 5/15\n",
      "92/92 [==============================] - 2s 19ms/step - loss: 0.6866 - acc: 0.5109 - val_loss: 0.6967 - val_acc: 0.4348\n",
      "Epoch 6/15\n",
      "92/92 [==============================] - 2s 18ms/step - loss: 0.6901 - acc: 0.5326 - val_loss: 0.6882 - val_acc: 0.5435\n",
      "Epoch 7/15\n",
      "92/92 [==============================] - 2s 20ms/step - loss: 0.6859 - acc: 0.5543 - val_loss: 0.6962 - val_acc: 0.4348\n",
      "Epoch 8/15\n",
      "92/92 [==============================] - 2s 20ms/step - loss: 0.6874 - acc: 0.5543 - val_loss: 0.6847 - val_acc: 0.5652\n",
      "Epoch 9/15\n",
      "92/92 [==============================] - 2s 21ms/step - loss: 0.6790 - acc: 0.6087 - val_loss: 0.6833 - val_acc: 0.4348\n",
      "Epoch 10/15\n",
      "92/92 [==============================] - 2s 19ms/step - loss: 0.6610 - acc: 0.6087 - val_loss: 0.6782 - val_acc: 0.4348\n",
      "Epoch 11/15\n",
      "92/92 [==============================] - 2s 18ms/step - loss: 0.6699 - acc: 0.5652 - val_loss: 0.6650 - val_acc: 0.7174\n",
      "Epoch 12/15\n",
      "92/92 [==============================] - 2s 20ms/step - loss: 0.6553 - acc: 0.6739 - val_loss: 0.6603 - val_acc: 0.5870\n",
      "Epoch 13/15\n",
      "92/92 [==============================] - 2s 18ms/step - loss: 0.6477 - acc: 0.6522 - val_loss: 0.6376 - val_acc: 0.9130\n",
      "Epoch 14/15\n",
      "92/92 [==============================] - 2s 22ms/step - loss: 0.6398 - acc: 0.7609 - val_loss: 0.6240 - val_acc: 0.9130\n",
      "Epoch 15/15\n",
      "92/92 [==============================] - 2s 19ms/step - loss: 0.6382 - acc: 0.6630 - val_loss: 0.6072 - val_acc: 0.9130\n"
     ]
    },
    {
     "data": {
      "text/plain": [
       "<keras.callbacks.History at 0x1c6857c7a90>"
      ]
     },
     "execution_count": 16,
     "metadata": {},
     "output_type": "execute_result"
    }
   ],
   "source": [
    "#train the model\n",
    "model.fit(x_train, y_train, validation_data=(x_test, y_test),batch_size=8, epochs=15)"
   ]
  },
  {
   "cell_type": "code",
   "execution_count": null,
   "metadata": {},
   "outputs": [],
   "source": []
  }
 ],
 "metadata": {
  "kernelspec": {
   "display_name": "Python 3",
   "language": "python",
   "name": "python3"
  },
  "language_info": {
   "codemirror_mode": {
    "name": "ipython",
    "version": 3
   },
   "file_extension": ".py",
   "mimetype": "text/x-python",
   "name": "python",
   "nbconvert_exporter": "python",
   "pygments_lexer": "ipython3",
   "version": "3.6.5"
  }
 },
 "nbformat": 4,
 "nbformat_minor": 2
}
