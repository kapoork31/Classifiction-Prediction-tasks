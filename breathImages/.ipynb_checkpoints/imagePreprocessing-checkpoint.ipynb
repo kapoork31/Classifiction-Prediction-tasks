{
 "cells": [
  {
   "cell_type": "code",
   "execution_count": 1,
   "metadata": {},
   "outputs": [],
   "source": [
    "import cv2 as cv2\n",
    "import numpy as np\n",
    "import scipy as scipy\n",
    "import matplotlib.pyplot as plt\n",
    "from os import listdir\n"
   ]
  },
  {
   "cell_type": "code",
   "execution_count": 2,
   "metadata": {},
   "outputs": [],
   "source": [
    "data = [] # hold vector data per image\n",
    "labels = [] # label for each image"
   ]
  },
  {
   "cell_type": "code",
   "execution_count": null,
   "metadata": {},
   "outputs": [],
   "source": [
    "def createVec(label,doc):\n",
    "    for filename in os.listdir(doc):\n",
    "        f = doc + '\\\\' + filename\n",
    "        img = cv.imread(f,0)\n",
    "        resized_image = cv.resize(img, (28, 28)) # reshape images to uniform size\n",
    "        normalize = resized_image/255 # get pixel intensity values/greyscale values\n",
    "        flattened = normalize.flatten() # flatten vecotr to be a a vector with 28 * 28 elements\n",
    "        data.append(flattened) \n",
    "        labels.append(label)\n",
    "        "
   ]
  },
  {
   "cell_type": "code",
   "execution_count": 3,
   "metadata": {},
   "outputs": [],
   "source": [
    "fnames = listdir('cnnImages')"
   ]
  },
  {
   "cell_type": "code",
   "execution_count": 4,
   "metadata": {},
   "outputs": [],
   "source": [
    "for f in fnames:\n",
    "    fname = 'cnnImages' + '/' + f\n",
    "    img = cv2.imread(fname,0)\n",
    "    img = cv2.resize(img,(56,56))\n",
    "    img2  = img.flatten()\n",
    "    #cv2.imshow('image',img)\n",
    "    #cv2.waitKey(0)\n",
    "    #cv2.destroyAllWindows()\n",
    "    "
   ]
  },
  {
   "cell_type": "code",
   "execution_count": 4,
   "metadata": {},
   "outputs": [],
   "source": [
    "img3 = img2.reshape((56,56))\n",
    "cv2.imshow('image3',img3)\n",
    "cv2.waitKey(0)\n",
    "cv2.destroyAllWindows()"
   ]
  }
 ],
 "metadata": {
  "kernelspec": {
   "display_name": "Python 3",
   "language": "python",
   "name": "python3"
  },
  "language_info": {
   "codemirror_mode": {
    "name": "ipython",
    "version": 3
   },
   "file_extension": ".py",
   "mimetype": "text/x-python",
   "name": "python",
   "nbconvert_exporter": "python",
   "pygments_lexer": "ipython3",
   "version": "3.6.5"
  }
 },
 "nbformat": 4,
 "nbformat_minor": 2
}
