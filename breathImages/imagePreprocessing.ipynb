{
 "cells": [
  {
   "cell_type": "code",
   "execution_count": 29,
   "metadata": {},
   "outputs": [],
   "source": [
    "import cv2 as cv2\n",
    "import numpy as np\n",
    "import scipy as scipy\n",
    "import matplotlib.pyplot as plt\n",
    "from os import listdir\n",
    "import pickle as pk\n"
   ]
  },
  {
   "cell_type": "code",
   "execution_count": 30,
   "metadata": {},
   "outputs": [],
   "source": [
    "data = [] # hold vector data per image\n",
    "labels = [] # label for each image"
   ]
  },
  {
   "cell_type": "code",
   "execution_count": 31,
   "metadata": {},
   "outputs": [],
   "source": [
    "def createVec(label,doc):\n",
    "    for filename in listdir(doc):\n",
    "        f = doc + '\\\\' + filename\n",
    "        img = cv2.imread(f,0)\n",
    "        resized_image = cv2.resize(img, (28, 28)) # reshape images to uniform size\n",
    "        normalize = resized_image/255 # get pixel intensity values/greyscale values\n",
    "        flattened = normalize.flatten() # flatten vecotr to be a a vector with 28 * 28 elements\n",
    "        data.append(flattened) \n",
    "        labels.append(label)\n",
    "        "
   ]
  },
  {
   "cell_type": "code",
   "execution_count": 32,
   "metadata": {},
   "outputs": [],
   "source": [
    "createVec(0,'images/acapella') # do for not hot dog photos\n",
    "createVec(1,'images/aerobika') # do for hot dog photos\n",
    "\n",
    "data = np.array(data) # convert to numpy array\n",
    "labels = np.array(labels) # convert to numpy array\n",
    "allData = (data,labels) # store in tuple\n",
    "\n",
    "pk.dump( allData, open( \"images\\\\allData.p\", \"wb\" ) ) # save as pickle file"
   ]
  }
 ],
 "metadata": {
  "kernelspec": {
   "display_name": "Python 3",
   "language": "python",
   "name": "python3"
  },
  "language_info": {
   "codemirror_mode": {
    "name": "ipython",
    "version": 3
   },
   "file_extension": ".py",
   "mimetype": "text/x-python",
   "name": "python",
   "nbconvert_exporter": "python",
   "pygments_lexer": "ipython3",
   "version": "3.6.5"
  }
 },
 "nbformat": 4,
 "nbformat_minor": 2
}
